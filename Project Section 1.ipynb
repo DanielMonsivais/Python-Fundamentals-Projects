{
 "cells": [
  {
   "cell_type": "code",
   "execution_count": 1,
   "metadata": {},
   "outputs": [],
   "source": [
    "#The pound sign means that this line it's just a note, not code, so python would do nothing when run\n",
    "#We can also use Python as a basic calculator\n",
    "#The highline words are key words, that can be functions, as the print() function that not generates an out\n",
    "#To print a string or word we need to use \"string\" or 'string'"
   ]
  },
  {
   "cell_type": "code",
   "execution_count": 2,
   "metadata": {},
   "outputs": [
    {
     "name": "stdout",
     "output_type": "stream",
     "text": [
      "\"Section 1 Project Complete!\"\n"
     ]
    }
   ],
   "source": [
    "print('\"Section 1 Project Complete!\"')"
   ]
  }
 ],
 "metadata": {
  "kernelspec": {
   "display_name": "Python 3",
   "language": "python",
   "name": "python3"
  },
  "language_info": {
   "codemirror_mode": {
    "name": "ipython",
    "version": 3
   },
   "file_extension": ".py",
   "mimetype": "text/x-python",
   "name": "python",
   "nbconvert_exporter": "python",
   "pygments_lexer": "ipython3",
   "version": "3.8.5"
  }
 },
 "nbformat": 4,
 "nbformat_minor": 4
}
